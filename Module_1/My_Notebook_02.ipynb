{
 "cells": [
  {
   "cell_type": "code",
   "execution_count": 1,
   "id": "8328ca8e",
   "metadata": {},
   "outputs": [
    {
     "data": {
      "text/plain": [
       "15"
      ]
     },
     "execution_count": 1,
     "metadata": {},
     "output_type": "execute_result"
    }
   ],
   "source": [
    "6 + 9 "
   ]
  },
  {
   "cell_type": "code",
   "execution_count": null,
   "id": "78dd3ef6",
   "metadata": {},
   "outputs": [],
   "source": []
  },
  {
   "cell_type": "markdown",
   "id": "2ef693e5",
   "metadata": {},
   "source": [
    "# My Tittle"
   ]
  },
  {
   "cell_type": "markdown",
   "id": "fbe35c6c",
   "metadata": {},
   "source": [
    "# [Markdown](https://www.markdownguide.org/) Practical\n",
    "**This is first sentence <br>**\n",
    "_This is second sentence_\n",
    "1. Learn Data Science\n",
    "2. Learn Machine Learning\n",
    "3. Learn Deep Learning\n",
    "* Improve knowledge\n",
    "* Improve Exp\n",
    "* Increase Salary <br>\n",
    "![**Weather forecast**](https://encrypted-tbn0.gstatic.com/images?q=tbn:ANd9GcRszC9od8nD0n3KiLmLTPpi2iELtbqmTgZdi0jYdv4sRw&s)\n",
    "|STT|Author|Works|\n",
    "|---|------|-----|\n",
    "|1  |Agatha Christie|The ABC merders|\n",
    "|2  |Emily Bronte|Wuthering Heights|\n",
    "> \"One of the luckiest things that can happen to you in life is, I think, to have a happy childhood.\" - Agatha Christie"
   ]
  },
  {
   "cell_type": "code",
   "execution_count": null,
   "id": "c69a37a4",
   "metadata": {},
   "outputs": [],
   "source": []
  }
 ],
 "metadata": {
  "kernelspec": {
   "display_name": "Python 3 (ipykernel)",
   "language": "python",
   "name": "python3"
  },
  "language_info": {
   "codemirror_mode": {
    "name": "ipython",
    "version": 3
   },
   "file_extension": ".py",
   "mimetype": "text/x-python",
   "name": "python",
   "nbconvert_exporter": "python",
   "pygments_lexer": "ipython3",
   "version": "3.11.4"
  }
 },
 "nbformat": 4,
 "nbformat_minor": 5
}
